{
 "cells": [
  {
   "cell_type": "code",
   "execution_count": null,
   "metadata": {},
   "outputs": [],
   "source": [
    "from scipy import sparse\n",
    "import numpy as np\n",
    "import matplotlib.pyplot as plt\n",
    "import numba as nb \n",
    "from bse import BSESolver\n"
   ]
  },
  {
   "cell_type": "markdown",
   "metadata": {},
   "source": [
    "# read ref data"
   ]
  },
  {
   "cell_type": "code",
   "execution_count": 2,
   "metadata": {},
   "outputs": [],
   "source": [
    "datasetname='/usr/scratch2/tortin16/jiacao/BSE_calc/agnr7/python/test/data_len10_ndiag14_nen600_'\n",
    "indata=np.load(datasetname+'input.npz')\n",
    "ham=indata['ham']\n",
    "V=indata['coulomb']\n",
    "lead_h00=indata['lead_h00']\n",
    "lead_h10=indata['lead_h10']\n",
    "lead_coupling=indata['lead_coupling']\n",
    "GL=indata['G_lesser']\n",
    "GG=indata['G_greater']\n",
    "W=indata['W0_r']\n",
    "\n",
    "outdata=np.load(datasetname+'output.npz')\n",
    "P_r=outdata['P_r']\n",
    "nops=outdata['nops']"
   ]
  },
  {
   "cell_type": "code",
   "execution_count": null,
   "metadata": {},
   "outputs": [],
   "source": [
    "plt.matshow(np.real(W[:,:]))"
   ]
  },
  {
   "cell_type": "code",
   "execution_count": null,
   "metadata": {},
   "outputs": [],
   "source": [
    "plt.matshow(np.abs(P_r[:,:,4]))"
   ]
  },
  {
   "cell_type": "code",
   "execution_count": null,
   "metadata": {},
   "outputs": [],
   "source": [
    "plt.matshow(np.imag(GL[:,:,100]))"
   ]
  },
  {
   "cell_type": "code",
   "execution_count": 6,
   "metadata": {},
   "outputs": [],
   "source": [
    "nm_dev = int(indata['nm_dev'])\n",
    "ndiag = int(indata['ndiag'])\n"
   ]
  },
  {
   "cell_type": "markdown",
   "metadata": {},
   "source": [
    "## BSE part"
   ]
  },
  {
   "cell_type": "code",
   "execution_count": null,
   "metadata": {},
   "outputs": [],
   "source": [
    "nm_dev=30\n",
    "ndiag=5\n",
    "num_E=10\n",
    "bse=BSESolver(nm_dev,ndiag)\n",
    "bse._preprocess()\n",
    "bse._alloc_twobody_matrix(num_E=num_E)\n",
    "# bse._calc_noninteracting_twobody(GG,GL)"
   ]
  },
  {
   "cell_type": "markdown",
   "metadata": {},
   "source": []
  },
  {
   "cell_type": "code",
   "execution_count": 9,
   "metadata": {},
   "outputs": [],
   "source": [
    "P = bse._solve_interacting_twobody(V,W)"
   ]
  },
  {
   "cell_type": "code",
   "execution_count": null,
   "metadata": {},
   "outputs": [],
   "source": []
  }
 ],
 "metadata": {
  "kernelspec": {
   "display_name": "Python 3",
   "language": "python",
   "name": "python3"
  },
  "language_info": {
   "codemirror_mode": {
    "name": "ipython",
    "version": 3
   },
   "file_extension": ".py",
   "mimetype": "text/x-python",
   "name": "python",
   "nbconvert_exporter": "python",
   "pygments_lexer": "ipython3",
   "version": "3.11.8"
  }
 },
 "nbformat": 4,
 "nbformat_minor": 2
}
