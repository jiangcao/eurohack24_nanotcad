{
 "cells": [
  {
   "cell_type": "code",
   "execution_count": 1,
   "metadata": {},
   "outputs": [
    {
     "name": "stderr",
     "output_type": "stream",
     "text": [
      "/home/jiacao/codes/qttools/src/qttools/utils/gpu_utils.py:34: UserWarning: 'cupy' is unavailable, defaulting to 'numpy'. (cudaErrorInsufficientDriver: CUDA driver version is insufficient for CUDA runtime version)\n",
      "  warn(f\"'cupy' is unavailable, defaulting to 'numpy'. ({e})\")\n"
     ]
    }
   ],
   "source": [
    "from scipy import sparse\n",
    "import numpy as np\n",
    "import matplotlib.pyplot as plt\n",
    "import numba as nb \n",
    "from bse import BSESolver\n"
   ]
  },
  {
   "cell_type": "code",
   "execution_count": 2,
   "metadata": {},
   "outputs": [
    {
     "name": "stdout",
     "output_type": "stream",
     "text": [
      "  total arrow size= 384\n",
      "  arrow bandwidth= 32\n",
      "  arrow block size= 32\n",
      "  arrow number of blocks= 12\n",
      "  nonzero elements= 0.01723  Million\n",
      "  nonzero ratio =  9.14757161969887  %\n"
     ]
    }
   ],
   "source": [
    "num_sites = 50\n",
    "cutoff = 4\n",
    "bse=BSESolver(num_sites,cutoff)\n",
    "bse._preprocess()\n"
   ]
  },
  {
   "cell_type": "code",
   "execution_count": 3,
   "metadata": {},
   "outputs": [],
   "source": [
    "num_E=10\n",
    "bse._alloc_twobody_matrix(num_E=num_E*2-1)"
   ]
  },
  {
   "cell_type": "code",
   "execution_count": 4,
   "metadata": {},
   "outputs": [],
   "source": [
    "ARRAY_SHAPE = (num_sites, num_sites, num_E)\n",
    "GG = np.random.rand(*ARRAY_SHAPE)\n",
    "GL = np.random.rand(*ARRAY_SHAPE)\n",
    "W = np.random.rand(num_sites,num_sites)\n",
    "V = np.random.rand(num_sites,num_sites)"
   ]
  },
  {
   "cell_type": "code",
   "execution_count": 5,
   "metadata": {},
   "outputs": [],
   "source": [
    "bse._calc_noninteracting_twobody(GG,GL)"
   ]
  },
  {
   "cell_type": "code",
   "execution_count": 6,
   "metadata": {},
   "outputs": [
    {
     "ename": "TypeError",
     "evalue": "BSESolver._calc_kernel() missing 1 required positional argument: 'W'",
     "output_type": "error",
     "traceback": [
      "\u001b[0;31m---------------------------------------------------------------------------\u001b[0m",
      "\u001b[0;31mTypeError\u001b[0m                                 Traceback (most recent call last)",
      "Cell \u001b[0;32mIn[6], line 1\u001b[0m\n\u001b[0;32m----> 1\u001b[0m bse\u001b[38;5;241m.\u001b[39m_solve_interacting_twobody(V,W)\n",
      "File \u001b[0;32m~/codes/qttools/src/qttools/bse/solver.py:144\u001b[0m, in \u001b[0;36mBSESolver._solve_interacting_twobody\u001b[0;34m(self, V, W)\u001b[0m\n\u001b[1;32m    143\u001b[0m \u001b[38;5;28;01mdef\u001b[39;00m \u001b[38;5;21m_solve_interacting_twobody\u001b[39m(\u001b[38;5;28mself\u001b[39m,V:xp\u001b[38;5;241m.\u001b[39marray,W:xp\u001b[38;5;241m.\u001b[39marray):\n\u001b[0;32m--> 144\u001b[0m     kernel_tip,kernel_diag \u001b[38;5;241m=\u001b[39m BSESolver\u001b[38;5;241m.\u001b[39m_calc_kernel(V,W)\n\u001b[1;32m    146\u001b[0m     \u001b[38;5;28;01mreturn\u001b[39;00m\n",
      "\u001b[0;31mTypeError\u001b[0m: BSESolver._calc_kernel() missing 1 required positional argument: 'W'"
     ]
    }
   ],
   "source": [
    "bse._solve_interacting_twobody(V,W)"
   ]
  },
  {
   "cell_type": "code",
   "execution_count": null,
   "metadata": {},
   "outputs": [],
   "source": []
  },
  {
   "cell_type": "code",
   "execution_count": null,
   "metadata": {},
   "outputs": [],
   "source": []
  }
 ],
 "metadata": {
  "kernelspec": {
   "display_name": "Python 3",
   "language": "python",
   "name": "python3"
  },
  "language_info": {
   "codemirror_mode": {
    "name": "ipython",
    "version": 3
   },
   "file_extension": ".py",
   "mimetype": "text/x-python",
   "name": "python",
   "nbconvert_exporter": "python",
   "pygments_lexer": "ipython3",
   "version": "3.11.8"
  }
 },
 "nbformat": 4,
 "nbformat_minor": 2
}
